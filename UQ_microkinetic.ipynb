{
 "cells": [
  {
   "cell_type": "markdown",
   "metadata": {},
   "source": [
    "# Uncertainty propagation of microkinetic modeling for water gas shift reaction"
   ]
  },
  {
   "cell_type": "code",
   "execution_count": 1,
   "metadata": {},
   "outputs": [],
   "source": [
    "# load packages\n",
    "import numpy as np \n",
    "from sklearn.preprocessing import StandardScaler, MinMaxScaler\n",
    "from sklearn.gaussian_process import GaussianProcessRegressor\n",
    "from sklearn.gaussian_process.kernels import WhiteKernel, RBF, ConstantKernel as C\n",
    "import utils"
   ]
  },
  {
   "cell_type": "code",
   "execution_count": 2,
   "metadata": {},
   "outputs": [],
   "source": [
    "# GP train setting\n",
    "\n",
    "# basis function\n",
    "Basis = ['outer_electron', 'inner_shell', \\\n",
    "         'coord_num', 'valence', 'num_non_hydro', \\\n",
    "         'M-C', 'M-O', 'M-H', 'PW91RelEnergy', '#CH3OH', '#H2O', '#H2']\n",
    "Nstart = 10000    # GP restart optimization\n",
    "\n",
    "limit_C = 100;    # lower bound for noise level\n",
    "limit_l = 1e-6    # lower bound for lengthscale\n",
    "isotropic_kernel = False                           # ARD kernel\n",
    "\n",
    "Scale = 'MinMax'  # standardize method\n",
    "Functional = 'Err_RelEnergy'\n",
    "WGSFxn = 'PW91BindEnergy'\n",
    "\n",
    "gp_trainfile = './Benchmark_data/Campbell_Mavrikakis_rel_v1.csv'    # gp training file\n",
    "metal_file = './Benchmark_data/metal_constant.csv'"
   ]
  },
  {
   "cell_type": "code",
   "execution_count": 3,
   "metadata": {},
   "outputs": [],
   "source": [
    "# pre-calculated hyperparameters\n",
    "hyp  = [7.767450383154461, 5.757596027338672, -0.1228293962244263, 13.009740697566935, -0.5650730981457128, 10.186156540562594, 11.525166763586267, 8.708465224255864, 4.749814718016643, -0.4903878616734594, 6.171236719199616, 10.708422581386317, -0.33423780342364817, 4.605170185988092]"
   ]
  },
  {
   "cell_type": "code",
   "execution_count": 4,
   "metadata": {},
   "outputs": [],
   "source": [
    "# Load and preprocessing the data\n",
    "sorp_data = utils.read_file(gp_trainfile)\n",
    "utils.outer_electron(sorp_data, metal_file)\n",
    "utils.inner_shell(sorp_data, metal_file)\n",
    "utils.coordination_num(sorp_data, metal_file)\n",
    "\n",
    "# build training data\n",
    "Xtrain = [sorp_data[base] for base in Basis]\n",
    "Xtrain = np.array(Xtrain).T \n",
    "Ndata, Nfeature = Xtrain.shape\n",
    "\n",
    "# Scaling\n",
    "if Scale == 'MinMax':\n",
    "    mms = MinMaxScaler()\n",
    "    Xtrain = mms.fit_transform(Xtrain)\n",
    "elif Scale == 'Std':\n",
    "    stdsc = StandardScaler()\n",
    "    Xtrain = stdsc.fit_transform(Xtrain)\n",
    "    \n",
    "# Output\n",
    "Ytrain = -np.array(sorp_data[Functional])"
   ]
  },
  {
   "cell_type": "code",
   "execution_count": 5,
   "metadata": {},
   "outputs": [
    {
     "data": {
      "text/plain": [
       "GaussianProcessRegressor(alpha=1e-10, copy_X_train=True,\n",
       "             kernel=48.6**2 * RBF(length_scale=[317, 0.884, 4.47e+05, 0.568, 2.65e+04, 1.01e+05, 6.05e+03, 116, 0.612, 479, 4.47e+04, 0.716]) + WhiteKernel(noise_level=100),\n",
       "             n_restarts_optimizer=0, normalize_y=False, optimizer=None,\n",
       "             random_state=None)"
      ]
     },
     "execution_count": 5,
     "metadata": {},
     "output_type": "execute_result"
    }
   ],
   "source": [
    "# Define the kernel and GP model \n",
    "if isotropic_kernel:\n",
    "    k1 = C(1, (1e-6, 1e6)) * RBF(1, (limit_l, 1e6))\n",
    "else:  \n",
    "    k1 = C(1, (1e-6, 1e6)) * RBF(np.ones(Nfeature), (limit_l, 1e6))\n",
    "k2 = WhiteKernel(noise_level=1,\n",
    "                  noise_level_bounds=(100, 1e6))  # noise terms\n",
    "kernel = k1+k2\n",
    "gpr = GaussianProcessRegressor(kernel=kernel, optimizer=None)\n",
    "\n",
    "hyp = np.array(hyp)\n",
    "gpr.kernel.theta = hyp          # laod the hyperparameters\n",
    "gpr.fit(Xtrain, Ytrain)"
   ]
  },
  {
   "cell_type": "code",
   "execution_count": 6,
   "metadata": {},
   "outputs": [],
   "source": [
    "# apply GP for the species applied in microkinetic model\n",
    "\n",
    "gp_predictfile = './Benchmark_data/InputMetSynGP.csv'\n",
    "\n",
    "# build predict input\n",
    "GPpred_data = utils.read_file(gp_predictfile)\n",
    "utils.site_dis(GPpred_data, metal_file)\n",
    "utils.outer_electron(GPpred_data, metal_file)\n",
    "utils.inner_shell(GPpred_data, metal_file)\n",
    "utils.coordination_num(GPpred_data, metal_file)\n",
    "Adsorbate = GPpred_data['Adsorbate']\n",
    "\n",
    "# WGS Input\n",
    "Xpred = [GPpred_data[base] for base in Basis]\n",
    "Xpred = np.array(Xpred).T\n",
    "Npred, _ = Xpred.shape\n",
    "\n",
    "if Scale == 'MinMax':\n",
    "    Xpred = mms.transform(Xpred)\n",
    "elif Scale == 'Std':\n",
    "    Xpred = stdsc.transform(Xpred)\n",
    "\n",
    "# GP prediction on gp_predictfile\n",
    "GPpred, SigGPpred = gpr.predict(Xpred, return_std=True)"
   ]
  },
  {
   "cell_type": "markdown",
   "metadata": {},
   "source": [
    "## Microkinetic modeling"
   ]
  },
  {
   "cell_type": "code",
   "execution_count": 7,
   "metadata": {},
   "outputs": [],
   "source": [
    "# load kinetic module\n",
    "from AbCD.model import CSTR\n",
    "from AbCD.io_data import In_data"
   ]
  },
  {
   "cell_type": "code",
   "execution_count": 8,
   "metadata": {},
   "outputs": [],
   "source": [
    "# load speices and reaction list and reaction condition\n",
    "sitelist, specieslist, reactionlist = In_data.load_mkm('./WGSdata/')\n",
    "conditionlist = In_data.load_condition('./WGSdata/')\n",
    "\n",
    "# which reaction and species are defined are varied in microkinetics\n",
    "dEa_index = [0, 1, 2, 3, 4, 5, 6, 7, 8, 9, 10, 11]\n",
    "dBE_index = [4, 5, 6, 7, 8, 9, 10, 11]\n",
    "\n",
    "# define CSTR reactor\n",
    "reactor = CSTR(specieslist=specieslist,\n",
    "              reactionlist=reactionlist,\n",
    "              dEa_index=dEa_index,\n",
    "              dBE_index=dBE_index)\n",
    "reactor.initialize()            # initialize the reactor"
   ]
  },
  {
   "cell_type": "code",
   "execution_count": 9,
   "metadata": {},
   "outputs": [
    {
     "name": "stdout",
     "output_type": "stream",
     "text": [
      "0\n",
      "100\n",
      "200\n",
      "Total simulation = 300\n",
      "Availabe simulation = 279\n"
     ]
    }
   ],
   "source": [
    "# sample from GP prediction\n",
    "Nsample = 300      # number of sample\n",
    "GPsample = gpr.sample_y(Xpred, n_samples=Nsample)\n",
    "\n",
    "\n",
    "tor_sample = []\n",
    "for i in range(Nsample):\n",
    "    if i % 100 == 0:\n",
    "        print(i)\n",
    "    # assign GP prediction to species deviation\n",
    "    GPpred = GPsample[:, i]\n",
    "    for ii, spe in enumerate(specieslist):\n",
    "        try:\n",
    "            idx = Adsorbate.index(str(spe))\n",
    "            spe.dE = GPpred[idx]\n",
    "        except:\n",
    "            pass\n",
    "    \n",
    "    # dEa_ follows the BEP relationship\n",
    "    dBE_ = []\n",
    "    for i in dBE_index:\n",
    "        spe = specieslist[i]\n",
    "        idx = Adsorbate.index(str(spe))\n",
    "        dBE_.append(GPpred[idx])\n",
    "    dEa_ = []\n",
    "    for i in dEa_index:\n",
    "        rxn = reactionlist[i]\n",
    "        dEa_.append(rxn.dft_data['omega'] * rxn.deltaH())\n",
    "    \n",
    "    # build input to the microkinetic model\n",
    "    dP = dEa_ + dBE_\n",
    "    if not reactor.CheckThermoConsis(dP):    # check thermodynamic consistency\n",
    "        dP = reactor.CorrThermoConsis(dP)\n",
    "\n",
    "    try:\n",
    "        tor_list = []\n",
    "        for condi in conditionlist:\n",
    "            tor, _ = reactor.fwd_simulation(dP, condi)     # forward simulation\n",
    "            tor_list.append(-tor['CO(g)'])\n",
    "        tor_sample.append(tor_list)\n",
    "    except:\n",
    "        pass\n",
    "    \n",
    "tor_sample = np.array(tor_sample)\n",
    "print('Total simulation = %d' %Nsample)\n",
    "print('Availabe simulation = %d' %len(tor_sample))"
   ]
  },
  {
   "cell_type": "code",
   "execution_count": 10,
   "metadata": {},
   "outputs": [],
   "source": [
    "# microkinetic model without GP correction\n",
    "tor_nogp = []\n",
    "dP = np.zeros(len(dEa_index) + len(dBE_index))\n",
    "if not reactor.CheckThermoConsis(dP):    # check thermodynamic consistency\n",
    "    dP = reactor.CorrThermoConsis(dP)    # correct thermodynamic consistency\n",
    "\n",
    "for condi in conditionlist:\n",
    "    tor, _ = reactor.fwd_simulation(dP, condi, reltol=1e-14, abstol=1e-16)     # forward simulation\n",
    "    tor_nogp.append(-tor['CO(g)'])"
   ]
  },
  {
   "cell_type": "code",
   "execution_count": 11,
   "metadata": {},
   "outputs": [],
   "source": [
    "# visualization\n",
    "import matplotlib.pyplot as plt\n",
    "from matplotlib.ticker import MultipleLocator, FormatStrFormatter"
   ]
  },
  {
   "cell_type": "code",
   "execution_count": 12,
   "metadata": {},
   "outputs": [
    {
     "data": {
      "image/png": "[encoded data removed]",
      "text/plain": [
       "<Figure size 450x450 with 1 Axes>"
      ]
     },
     "metadata": {
      "needs_background": "light"
     },
     "output_type": "display_data"
    }
   ],
   "source": [
    "tor_exp = [-condi.TurnOverFrequency['CO(g)'] for condi in conditionlist]\n",
    "Tem = [condi.Temperature for condi in conditionlist]\n",
    "\n",
    "Acti = tor_sample[:, 0:6]\n",
    "Acti_nogp = tor_nogp[0:6]\n",
    "Acti_exp = tor_exp[0:6]\n",
    "Tem_Acti = [1000/tt for tt in Tem][0:6]\n",
    "\n",
    "\n",
    "logActi = np.log10(Acti)\n",
    "logActi_exp = np.log10(Acti_exp)\n",
    "logActi_nogp = np.log10(Acti_nogp)\n",
    "\n",
    "# Arrhenius Plot\n",
    "fig = plt.figure(figsize=(1.5, 1.5), dpi=300)\n",
    "ax = fig.gca()\n",
    "\n",
    "ax.plot(Tem_Acti, np.median(logActi, axis = 0), 'r-', label='GP-DFT')\n",
    "p16 = np.percentile(logActi, 16, axis=0)\n",
    "p84 = np.percentile(logActi, 84, axis=0)\n",
    "ax.fill_between(Tem_Acti,p16, p84, alpha=0.3, color='r')  # Draw red shade between 16 and 84\n",
    "ax.plot(Tem_Acti, logActi_exp, 'bo', ms=2, label='Exp')\n",
    "ax.plot(Tem_Acti, logActi_nogp, 'kD', ms=2, label='DFT')\n",
    "# Linear fit\n",
    "fit_exp = np.polyfit(Tem_Acti, logActi_exp, 1)\n",
    "fit_fn_exp = np.poly1d(fit_exp)\n",
    "fit_nogp = np.polyfit(Tem_Acti, logActi_nogp, 1)\n",
    "fit_fn_nogp = np.poly1d(fit_nogp) \n",
    "xx = [1.4, 1.8]\n",
    "# Line\n",
    "#ax.plot(xx, fit_fn_exp(xx), 'b:')\n",
    "#ax.plot(xx, fit_fn_nogp(xx), 'k:')\n",
    "tickform = '%d'\n",
    "\n",
    "major = 2\n",
    "minor = 1\n",
    "majorLocator = MultipleLocator(major)\n",
    "majorFormatter = FormatStrFormatter(tickform)\n",
    "minorLocator = MultipleLocator(minor)\n",
    "ax.yaxis.set_major_locator(majorLocator)\n",
    "ax.yaxis.set_major_formatter(majorFormatter)\n",
    "ax.yaxis.set_minor_locator(minorLocator)\n",
    "\n",
    "ax.tick_params(axis='x', which='major', direction='in', labelsize=5)\n",
    "ax.tick_params(axis='y', which='major', direction='in', labelsize=5)\n",
    "ax.tick_params(axis='y', which='minor', direction='in', labelsize=5)\n",
    "\n",
    "\n",
    "ax.set_xlabel('1000K / Temperature', fontsize=6)\n",
    "ax.set_ylabel(r'log$_{10}$ (TOF (s$^{-1}$))', fontsize=6)\n",
    "\n",
    "ax.xaxis.set_label_coords(0.50, -0.13)\n",
    "ax.yaxis.set_label_coords(-0.11, 0.50)\n",
    "\n",
    "ax.set_ylim([-6, 0.5])\n",
    "ax.set_xlim([1.45, 1.79])\n",
    "\n",
    "\n",
    "plt.subplots_adjust(top=0.95,\n",
    "                    bottom=0.18,\n",
    "                    left=0.18,\n",
    "                    right=0.95,\n",
    "                    hspace=0.2,\n",
    "                    wspace=0.2)"
   ]
  },
  {
   "cell_type": "code",
   "execution_count": null,
   "metadata": {},
   "outputs": [],
   "source": []
  }
 ],
 "metadata": {
  "kernelspec": {
   "display_name": "Python 2.7.15 64-bit ('kinetic': conda)",
   "language": "python",
   "name": "python271564bitkineticcondaaa1f811a046d46ffa64a28e2225560eb"
  },
  "language_info": {
   "codemirror_mode": {
    "name": "ipython",
    "version": 2
   },
   "file_extension": ".py",
   "mimetype": "text/x-python",
   "name": "python",
   "nbconvert_exporter": "python",
   "pygments_lexer": "ipython2",
   "version": "2.7.15"
  }
 },
 "nbformat": 4,
 "nbformat_minor": 2
}
