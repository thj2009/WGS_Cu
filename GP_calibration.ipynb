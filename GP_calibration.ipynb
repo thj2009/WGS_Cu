{
 "cells": [
  {
   "cell_type": "markdown",
   "metadata": {},
   "source": [
    "# External calibration of DFT prediction with Gaussian Process"
   ]
  },
  {
   "cell_type": "code",
   "execution_count": 1,
   "metadata": {},
   "outputs": [],
   "source": [
    "# load packages\n",
    "import numpy as np \n",
    "from sklearn.preprocessing import StandardScaler, MinMaxScaler\n",
    "from sklearn.gaussian_process import GaussianProcessRegressor\n",
    "from sklearn.gaussian_process.kernels import WhiteKernel, RBF, ConstantKernel as C\n",
    "import utils"
   ]
  },
  {
   "cell_type": "code",
   "execution_count": 2,
   "metadata": {},
   "outputs": [],
   "source": [
    "# GP train setting\n",
    "\n",
    "# basis function\n",
    "Basis = ['outer_electron', 'inner_shell', \\\n",
    "         'coord_num', 'valence', 'num_non_hydro', \\\n",
    "         'M-C', 'M-O', 'M-H', 'PW91RelEnergy', '#CH3OH', '#H2O', '#H2']\n",
    "Nstart = 1000    # GP restart optimization\n",
    "\n",
    "limit_C = 100;    # lower bound for noise level\n",
    "limit_l = 1e-6    # lower bound for lengthscale\n",
    "isotropic_kernel = False                           # ARD kernel\n",
    "\n",
    "Scale = 'MinMax'  # standardize method\n",
    "Functional = 'Err_RelEnergy'\n",
    "WGSFxn = 'PW91BindEnergy'\n",
    "\n",
    "gp_trainfile = './Benchmark_data/Campbell_Mavrikakis_rel_v1.csv'    # gp training file\n",
    "metal_file = './Benchmark_data/metal_constant.csv'"
   ]
  },
  {
   "cell_type": "code",
   "execution_count": 3,
   "metadata": {},
   "outputs": [],
   "source": [
    "# Load and preprocessing the data\n",
    "sorp_data = utils.read_file(gp_trainfile)\n",
    "utils.outer_electron(sorp_data, metal_file)\n",
    "utils.inner_shell(sorp_data, metal_file)\n",
    "utils.coordination_num(sorp_data, metal_file)\n",
    "\n",
    "# build training data\n",
    "Xtrain = [sorp_data[base] for base in Basis]\n",
    "Xtrain = np.array(Xtrain).T \n",
    "Ndata, Nfeature = Xtrain.shape\n",
    "\n",
    "# Scaling\n",
    "if Scale == 'MinMax':\n",
    "    mms = MinMaxScaler()\n",
    "    Xtrain = mms.fit_transform(Xtrain)\n",
    "elif Scale == 'Std':\n",
    "    stdsc = StandardScaler()\n",
    "    Xtrain = stdsc.fit_transform(Xtrain)\n",
    "    \n",
    "# Output\n",
    "Ytrain = -np.array(sorp_data[Functional])"
   ]
  },
  {
   "cell_type": "code",
   "execution_count": 4,
   "metadata": {},
   "outputs": [
    {
     "data": {
      "text/plain": [
       "GaussianProcessRegressor(alpha=1e-10, copy_X_train=True,\n",
       "             kernel=1**2 * RBF(length_scale=[1, 1, 1, 1, 1, 1, 1, 1, 1, 1, 1, 1]) + WhiteKernel(noise_level=1),\n",
       "             n_restarts_optimizer=1000, normalize_y=False,\n",
       "             optimizer='fmin_l_bfgs_b', random_state=None)"
      ]
     },
     "execution_count": 4,
     "metadata": {},
     "output_type": "execute_result"
    }
   ],
   "source": [
    "# define kernel and GP model\n",
    "if isotropic_kernel:\n",
    "    k1 = C(1, (1e-6, 1e20)) * RBF(1, (limit_l, 1e20))\n",
    "else:  \n",
    "    k1 = C(1, (1e-6, 1e20)) * RBF(np.ones(Nfeature), (limit_l, 1e20))\n",
    "k2 = WhiteKernel(noise_level=1,\n",
    "                  noise_level_bounds=(limit_C, 1000))  # noise terms\n",
    "\n",
    "kernel = k1+k2\n",
    "gpr = GaussianProcessRegressor(kernel=kernel, n_restarts_optimizer=Nstart)\n",
    "gpr.fit(Xtrain, Ytrain)  "
   ]
  },
  {
   "cell_type": "code",
   "execution_count": 5,
   "metadata": {},
   "outputs": [
    {
     "name": "stdout",
     "output_type": "stream",
     "text": [
      "Hyperparameter:\n",
      "[6.716045712171986, 28.519853399302583, 18.2959333460509, -13.815510557964274, -4.549859151440912, 29.583951063276416, 26.568455258521425, -11.589373421550459, -5.821606744357051, -2.0827426719773108, 37.27201584259565, 31.52862947167489, 0.27006970870086416, 4.605170185988092]\n"
     ]
    }
   ],
   "source": [
    "# print the optmized hyperparameters\n",
    "print 'Hyperparameter:'\n",
    "print gpr.kernel_.theta.tolist()"
   ]
  },
  {
   "cell_type": "code",
   "execution_count": null,
   "metadata": {},
   "outputs": [],
   "source": []
  }
 ],
 "metadata": {
  "kernelspec": {
   "display_name": "Python 2.7.15 64-bit ('kinetic': conda)",
   "language": "python",
   "name": "python271564bitkineticcondaaa1f811a046d46ffa64a28e2225560eb"
  },
  "language_info": {
   "codemirror_mode": {
    "name": "ipython",
    "version": 2
   },
   "file_extension": ".py",
   "mimetype": "text/x-python",
   "name": "python",
   "nbconvert_exporter": "python",
   "pygments_lexer": "ipython2",
   "version": "2.7.15"
  }
 },
 "nbformat": 4,
 "nbformat_minor": 2
}
