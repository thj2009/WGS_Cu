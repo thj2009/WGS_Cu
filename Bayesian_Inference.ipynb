{
 "cells": [
  {
   "cell_type": "markdown",
   "metadata": {},
   "source": [
    "# Bayesian inference of water gas shift using GP as prior"
   ]
  },
  {
   "cell_type": "code",
   "execution_count": 1,
   "metadata": {},
   "outputs": [],
   "source": [
    "# load packages\n",
    "import numpy as np \n",
    "from sklearn.preprocessing import StandardScaler, MinMaxScaler\n",
    "from sklearn.gaussian_process import GaussianProcessRegressor\n",
    "from sklearn.gaussian_process.kernels import WhiteKernel, RBF, ConstantKernel as C\n",
    "import utils"
   ]
  },
  {
   "cell_type": "code",
   "execution_count": 2,
   "metadata": {},
   "outputs": [],
   "source": [
    "# GP train setting\n",
    "\n",
    "# basis function\n",
    "Basis = ['outer_electron', 'inner_shell', \\\n",
    "         'coord_num', 'valence', 'num_non_hydro', \\\n",
    "         'M-C', 'M-O', 'M-H', 'PW91RelEnergy', '#CH3OH', '#H2O', '#H2']\n",
    "Nstart = 10000    # GP restart optimization\n",
    "\n",
    "limit_C = 100;    # lower bound for noise level\n",
    "limit_l = 1e-6    # lower bound for lengthscale\n",
    "isotropic_kernel = False                           # ARD kernel\n",
    "\n",
    "Scale = 'MinMax'  # standardize method\n",
    "Functional = 'Err_RelEnergy'\n",
    "WGSFxn = 'PW91BindEnergy'\n",
    "\n",
    "gp_trainfile = './Benchmark_data/Campbell_Mavrikakis_rel_v1.csv'    # gp training file\n",
    "metal_file = './Benchmark_data/metal_constant.csv'"
   ]
  },
  {
   "cell_type": "code",
   "execution_count": 3,
   "metadata": {},
   "outputs": [],
   "source": [
    "# pre-calculated hyperparameters\n",
    "hyp  = [7.767450383154461, 5.757596027338672, -0.1228293962244263, 13.009740697566935, -0.5650730981457128, 10.186156540562594, 11.525166763586267, 8.708465224255864, 4.749814718016643, -0.4903878616734594, 6.171236719199616, 10.708422581386317, -0.33423780342364817, 4.605170185988092]"
   ]
  },
  {
   "cell_type": "code",
   "execution_count": 4,
   "metadata": {},
   "outputs": [],
   "source": [
    "# Load and preprocessing the data\n",
    "sorp_data = utils.read_file(gp_trainfile)\n",
    "utils.outer_electron(sorp_data, metal_file)\n",
    "utils.inner_shell(sorp_data, metal_file)\n",
    "utils.coordination_num(sorp_data, metal_file)\n",
    "\n",
    "# build training data\n",
    "Xtrain = [sorp_data[base] for base in Basis]\n",
    "Xtrain = np.array(Xtrain).T \n",
    "Ndata, Nfeature = Xtrain.shape\n",
    "\n",
    "# Scaling\n",
    "if Scale == 'MinMax':\n",
    "    mms = MinMaxScaler()\n",
    "    Xtrain = mms.fit_transform(Xtrain)\n",
    "elif Scale == 'Std':\n",
    "    stdsc = StandardScaler()\n",
    "    Xtrain = stdsc.fit_transform(Xtrain)\n",
    "    \n",
    "# Output\n",
    "Ytrain = -np.array(sorp_data[Functional])"
   ]
  },
  {
   "cell_type": "code",
   "execution_count": 5,
   "metadata": {},
   "outputs": [
    {
     "data": {
      "text/plain": [
       "GaussianProcessRegressor(alpha=1e-10, copy_X_train=True,\n",
       "             kernel=48.6**2 * RBF(length_scale=[317, 0.884, 4.47e+05, 0.568, 2.65e+04, 1.01e+05, 6.05e+03, 116, 0.612, 479, 4.47e+04, 0.716]) + WhiteKernel(noise_level=100),\n",
       "             n_restarts_optimizer=0, normalize_y=False, optimizer=None,\n",
       "             random_state=None)"
      ]
     },
     "execution_count": 5,
     "metadata": {},
     "output_type": "execute_result"
    }
   ],
   "source": [
    "# Define the kernel and GP model \n",
    "if isotropic_kernel:\n",
    "    k1 = C(1, (1e-6, 1e6)) * RBF(1, (limit_l, 1e6))\n",
    "else:  \n",
    "    k1 = C(1, (1e-6, 1e6)) * RBF(np.ones(Nfeature), (limit_l, 1e6))\n",
    "k2 = WhiteKernel(noise_level=1,\n",
    "                  noise_level_bounds=(100, 1e6))  # noise terms\n",
    "kernel = k1+k2\n",
    "gpr = GaussianProcessRegressor(kernel=kernel, optimizer=None)\n",
    "\n",
    "hyp = np.array(hyp)\n",
    "gpr.kernel.theta = hyp          # laod the hyperparameters\n",
    "gpr.fit(Xtrain, Ytrain)"
   ]
  },
  {
   "cell_type": "code",
   "execution_count": 6,
   "metadata": {},
   "outputs": [],
   "source": [
    "# apply GP for the species applied in microkinetic model\n",
    "\n",
    "gp_predictfile = './Benchmark_data/InputMetSynGP.csv'\n",
    "\n",
    "# build predict input\n",
    "GPpred_data = utils.read_file(gp_predictfile)\n",
    "utils.site_dis(GPpred_data, metal_file)\n",
    "utils.outer_electron(GPpred_data, metal_file)\n",
    "utils.inner_shell(GPpred_data, metal_file)\n",
    "utils.coordination_num(GPpred_data, metal_file)\n",
    "Adsorbate = GPpred_data['Adsorbate']\n",
    "\n",
    "# WGS Input\n",
    "Xpred = [GPpred_data[base] for base in Basis]\n",
    "Xpred = np.array(Xpred).T\n",
    "Npred, _ = Xpred.shape\n",
    "\n",
    "if Scale == 'MinMax':\n",
    "    Xpred = mms.transform(Xpred)\n",
    "elif Scale == 'Std':\n",
    "    Xpred = stdsc.transform(Xpred)\n",
    "\n",
    "# GP prediction on gp_predictfile\n",
    "GPpred, CovGPpred = gpr.predict(Xpred, return_cov=True)"
   ]
  },
  {
   "cell_type": "markdown",
   "metadata": {},
   "source": [
    "# Microkinetic model bayesian inference"
   ]
  },
  {
   "cell_type": "code",
   "execution_count": 7,
   "metadata": {},
   "outputs": [],
   "source": [
    "# load kinetic module\n",
    "from AbCD.model import CSTR\n",
    "from AbCD.io_data import In_data"
   ]
  },
  {
   "cell_type": "code",
   "execution_count": 8,
   "metadata": {},
   "outputs": [],
   "source": [
    "# load speices and reaction list and reaction condition\n",
    "sitelist, specieslist, reactionlist = In_data.load_mkm('./WGSdata/')\n",
    "conditionlist = In_data.load_condition('./WGSdata/')\n",
    "\n",
    "# which reaction and species are defined are varied in microkinetics\n",
    "dEa_index = [0, 1, 2, 3, 4, 5, 6, 7, 8, 9, 10, 11]\n",
    "dBE_index = [4, 5, 6, 7, 8, 9, 10, 11]\n",
    "\n",
    "# define CSTR reactor\n",
    "reactor = CSTR(specieslist=specieslist,\n",
    "              reactionlist=reactionlist,\n",
    "              dEa_index=dEa_index,\n",
    "              dBE_index=dBE_index)\n",
    "reactor.initialize()            # initialize the reactor"
   ]
  },
  {
   "cell_type": "code",
   "execution_count": 9,
   "metadata": {},
   "outputs": [],
   "source": [
    "# determine the reaction condition need be inferred\n",
    "act = [0]\n",
    "conditionlist = [condi for ii, condi in enumerate(conditionlist) if ii in act]"
   ]
  },
  {
   "cell_type": "code",
   "execution_count": 10,
   "metadata": {},
   "outputs": [],
   "source": [
    "# define prior information\n",
    "\n",
    "HH = reactor.stoimat[:, dBE_index]    # active stroichiometric\n",
    "    \n",
    "mean_BE = [];\n",
    "weight = np.zeros(len(Adsorbate));\n",
    "nonz = []\n",
    "for ii, spe in enumerate(specieslist):\n",
    "    try:\n",
    "        idx = Adsorbate.index(str(spe))\n",
    "        mean_BE.append(GPpred[idx])\n",
    "        spe.dE = GPpred[idx]\n",
    "        weight[idx] = 1\n",
    "        nonz.append(idx)\n",
    "    except:\n",
    "        pass\n",
    "\n",
    "non_in = [i for i in range(len(Adsorbate)) if i not in nonz]\n",
    "\n",
    "cov_BE = np.copy(CovGPpred)\n",
    "cov_BE = np.delete(cov_BE, non_in, 0)\n",
    "cov_BE = np.delete(cov_BE, non_in, 1)\n",
    "\n",
    "omega_list = []\n",
    "for rxn in reactionlist:\n",
    "    omega_list.append(rxn.dft_data['omega'])\n",
    "    \n",
    "mean_Ea = np.diag(omega_list).dot(HH).dot(mean_BE)\n",
    "mean_prior = np.concatenate([mean_Ea, mean_BE])\n",
    "\n",
    "cov_Ea = 100 * np.eye(len(dEa_index))             # 10 as std for deviation in Ea\n",
    "BE2Ea = np.diag(omega_list).dot(HH)"
   ]
  },
  {
   "cell_type": "code",
   "execution_count": 11,
   "metadata": {},
   "outputs": [],
   "source": [
    "# construct evidence and prior dictionary\n",
    "evidence = {}\n",
    "evidence['type'] = 'rel'              # the error for TOF measurement is assumed to be relative error\n",
    "evidence['err'] = 0.2                 # the std is assumed to be 20 %\n",
    "\n",
    "prior = {}\n",
    "prior['type'] = 'GP'\n",
    "prior['BEmean'] = mean_BE\n",
    "prior['BEcov'] = cov_BE\n",
    "prior['BE2Ea'] = BE2Ea\n",
    "prior['Eacov'] = cov_Ea\n",
    "\n",
    "prior['lbound'] = [-100.] * (len(dEa_index) + len(dBE_index))\n",
    "prior['ubound'] = [100.] * (len(dEa_index) + len(dBE_index))"
   ]
  },
  {
   "cell_type": "code",
   "execution_count": 12,
   "metadata": {},
   "outputs": [
    {
     "name": "stdout",
     "output_type": "stream",
     "text": [
      "{'tf': 1000000, 'reltol': 1e-12, 'abstol': 1e-14, 'max_num_steps': 100000.0, 'disable_internal_warnings': True}\n",
      "   step       log(prior)     log(likelihood)  log(posterior)       accept%         infeasi%    \n",
      "============================================================\n",
      "    0           -18.51           -23.98           -42.48            0.00             0.00      \n",
      "   1000         -11.72            -5.53           -17.25            46.05            0.00      \n",
      "   2000          -4.62            -0.50            -5.13            43.03            0.00      \n",
      "   3000          -9.43            -0.78           -10.22            41.89            0.00      \n",
      "   4000         -12.71            -0.49           -13.20            41.49            0.00      \n",
      "   5000         -11.15            -0.04           -11.19            41.79            0.00      \n",
      "   6000          -8.49            -1.49            -9.98            42.64            0.00      \n",
      "   7000          -9.22            -0.30            -9.52            42.94            0.00      \n",
      "   8000          -8.44            -0.01            -8.46            42.24            0.00      \n",
      "   9000          -7.99            -0.32            -8.31            42.00            0.00      \n"
     ]
    }
   ],
   "source": [
    "dP = np.zeros(len(dEa_index) + len(dBE_index))\n",
    "if not reactor.CheckThermoConsis(dP):    # check thermodynamic consistency\n",
    "    dP = reactor.CorrThermoConsis(dP)    # correct thermodynamic consistency\n",
    "Edis, tor_dis, result_dis = reactor.bayesian_infer(10000, 1000, dP, 1*np.eye(len(dEa_index) + len(dBE_index)),\n",
    "                                                   conditionlist, evidence, prior,\n",
    "                                                   sample_method='augment',\n",
    "                                                   step_write=1000)\n"
   ]
  },
  {
   "cell_type": "code",
   "execution_count": null,
   "metadata": {},
   "outputs": [],
   "source": [
    "# save the infer distribution\n",
    "Edis = np.array(Edis)"
   ]
  }
 ],
 "metadata": {
  "kernelspec": {
   "display_name": "Python 2.7.15 64-bit ('kinetic': conda)",
   "language": "python",
   "name": "python271564bitkineticcondaaa1f811a046d46ffa64a28e2225560eb"
  },
  "language_info": {
   "codemirror_mode": {
    "name": "ipython",
    "version": 2
   },
   "file_extension": ".py",
   "mimetype": "text/x-python",
   "name": "python",
   "nbconvert_exporter": "python",
   "pygments_lexer": "ipython2",
   "version": "2.7.15"
  }
 },
 "nbformat": 4,
 "nbformat_minor": 2
}
